{
 "cells": [
  {
   "cell_type": "markdown",
   "metadata": {},
   "source": [
    "# Imports"
   ]
  },
  {
   "cell_type": "code",
   "execution_count": 15,
   "metadata": {},
   "outputs": [],
   "source": [
    "%matplotlib inline\n",
    "%config IPCompleter.greedy=True\n",
    "import os\n",
    "os.environ[\"KERAS_BACKEND\"] = \"tensorflow\"\n",
    "\n",
    "import matplotlib.pyplot as plt\n",
    "import pandas as pd\n",
    "import numpy as np\n",
    "\n",
    "from sklearn.preprocessing import MinMaxScaler\n",
    "from sklearn.preprocessing import StandardScaler\n",
    "from sklearn.preprocessing import OneHotEncoder\n",
    "from sklearn.preprocessing import LabelBinarizer, LabelEncoder\n",
    "from sklearn.model_selection import train_test_split\n",
    "from sklearn.utils import shuffle\n",
    "from sklearn.utils import class_weight\n",
    "from sklearn.metrics import classification_report\n",
    "from sklearn.metrics import confusion_matrix, accuracy_score\n",
    "import sklearn.metrics as metrics\n",
    "from sklearn import preprocessing\n",
    "import matplotlib.image as mpimg\n",
    "from skimage.io import imread, imsave, imshow\n",
    "from skimage import data, color, io, filters, morphology,transform, exposure, feature, util\n",
    "from scipy import ndimage\n",
    "import tensorflow as tf\n",
    "import tensorflow.keras\n",
    "from tensorflow.keras.models import Sequential, load_model\n",
    "from tensorflow.keras.optimizers import SGD\n",
    "from tensorflow.keras.layers import Dense, Dropout, Flatten, Conv2D, MaxPooling2D, Activation, LeakyReLU, BatchNormalization\n",
    "from tensorflow.keras.layers import Lambda, Cropping2D\n",
    "from tensorflow.keras import backend as K\n",
    "from keras.utils import np_utils\n",
    "from tensorflow.keras.preprocessing import image\n",
    "from keras.callbacks import EarlyStopping, ModelCheckpoint\n",
    "from tensorflow.keras.applications.vgg19 import preprocess_input, decode_predictions, VGG19\n",
    "from tensorflow.keras.preprocessing.text import Tokenizer\n",
    "from keras.utils.np_utils import to_categorical\n",
    "from tensorflow.keras.preprocessing.image import ImageDataGenerator\n",
    "from tensorflow.keras.optimizers import Adam\n",
    "\n",
    "import cv2 as cv\n",
    "\n",
    "from PIL import ImageFile\n",
    "ImageFile.LOAD_TRUNCATED_IMAGES = True\n",
    "\n",
    "import re\n",
    "\n",
    "# K.set_image_dim_ordering('tf')\n",
    "plt.rcParams['image.cmap'] = 'gray'\n",
    "pd.set_option('display.max_rows',1000)\n",
    "pd.set_option('display.max_columns',1000)"
   ]
  },
  {
   "cell_type": "markdown",
   "metadata": {},
   "source": [
    "# Preprocessing image"
   ]
  },
  {
   "cell_type": "code",
   "execution_count": 16,
   "metadata": {},
   "outputs": [],
   "source": [
    "def preprocess_img(image):\n",
    "    init_height, init_width, _ = image.shape\n",
    "    YUV_image = cv.cvtColor(image, cv.COLOR_RGB2YUV_I420)\n",
    "    YUV_height, YUV_width = YUV_image.shape\n",
    "    process_height = int((YUV_height - init_height) / 2)\n",
    "    YUV_image = YUV_image[init_height + int(process_height / 2):init_height +\n",
    "                          process_height, 0:int(init_width / 2)]\n",
    "    canny_image = cv.Canny(YUV_image, 10, 60)\n",
    "    \n",
    "    return canny_image"
   ]
  },
  {
   "cell_type": "markdown",
   "metadata": {},
   "source": [
    "# Loading images"
   ]
  },
  {
   "cell_type": "code",
   "execution_count": 17,
   "metadata": {},
   "outputs": [
    {
     "name": "stderr",
     "output_type": "stream",
     "text": [
      " 64%|████████████████████████████████████████████████▋                           | 1537/2397 [00:10<00:06, 143.03it/s]"
     ]
    },
    {
     "name": "stdout",
     "output_type": "stream",
     "text": [
      "Skipped bad image: vide117_068_100.png\n",
      "Could not find a format to read the specified file in mode 'i'\n"
     ]
    },
    {
     "name": "stderr",
     "output_type": "stream",
     "text": [
      " 75%|████████████████████████████████████████████████████████▊                   | 1792/2397 [00:12<00:04, 143.27it/s]"
     ]
    },
    {
     "name": "stdout",
     "output_type": "stream",
     "text": [
      "Skipped bad image: vide120_155_054.png\n",
      "Could not find a format to read the specified file in mode 'i'\n"
     ]
    },
    {
     "name": "stderr",
     "output_type": "stream",
     "text": [
      " 82%|██████████████████████████████████████████████████████████████▍             | 1971/2397 [00:13<00:03, 141.21it/s]"
     ]
    },
    {
     "name": "stdout",
     "output_type": "stream",
     "text": [
      "Skipped bad image: vide122_075_048.png\n",
      "Could not find a format to read the specified file in mode 'i'\n"
     ]
    },
    {
     "name": "stderr",
     "output_type": "stream",
     "text": [
      "100%|████████████████████████████████████████████████████████████████████████████| 2397/2397 [00:17<00:00, 140.10it/s]\n"
     ]
    },
    {
     "data": {
      "text/plain": [
       "Text(0.5, 1.0, '52')"
      ]
     },
     "execution_count": 17,
     "metadata": {},
     "output_type": "execute_result"
    },
    {
     "data": {
      "image/png": "[encoded data removed]",
      "text/plain": [
       "<Figure size 432x288 with 1 Axes>"
      ]
     },
     "metadata": {
      "needs_background": "light"
     },
     "output_type": "display_data"
    }
   ],
   "source": [
    "from tqdm import tqdm\n",
    "images = []\n",
    "labels = []\n",
    "\n",
    "path = './data09/'\n",
    "valid_images = [\".jpg\",\".gif\",\".png\"]\n",
    "\n",
    "zero_num = 0\n",
    "center_num = 0\n",
    "full_num = 0\n",
    "\n",
    "for f in tqdm(os.listdir(path)):\n",
    "    try:\n",
    "        ext = os.path.splitext(f)[1]\n",
    "        if ext.lower() not in valid_images:\n",
    "            continue\n",
    "        angle = int(f[-7:-4])        \n",
    "            \n",
    "        im = imread(os.path.join(path,f))\n",
    "        images.append(cv.resize(preprocess_img(im), (200,66)))\n",
    "        labels.append(angle)\n",
    "    except Exception as error:\n",
    "        print('Skipped bad image: %s' % f)\n",
    "        print(error)\n",
    "        \n",
    "plt.imshow(images[20])\n",
    "plt.title(labels[20])"
   ]
  },
  {
   "cell_type": "markdown",
   "metadata": {},
   "source": [
    "## Plot some preprocessed images"
   ]
  },
  {
   "cell_type": "code",
   "execution_count": 18,
   "metadata": {},
   "outputs": [
    {
     "data": {
      "image/png": "[encoded data removed]",
      "text/plain": [
       "<Figure size 432x288 with 20 Axes>"
      ]
     },
     "metadata": {
      "needs_background": "light"
     },
     "output_type": "display_data"
    }
   ],
   "source": [
    "def plot_images(list_images, rows, columns, num_images):\n",
    "    for index, val in enumerate(list_images[:num_images]):\n",
    "        plt.subplot(rows,columns,index+1)\n",
    "        plt.axis('off')\n",
    "        plt.subplots_adjust(bottom=1, right=2, top=2)\n",
    "        plt.imshow(val)\n",
    "\n",
    "plot_images(images, rows=3, columns=10, num_images=20)"
   ]
  },
  {
   "cell_type": "markdown",
   "metadata": {},
   "source": [
    "## Data distribution"
   ]
  },
  {
   "cell_type": "code",
   "execution_count": 19,
   "metadata": {},
   "outputs": [
    {
     "data": {
      "text/plain": [
       "Text(0, 0.5, 'count')"
      ]
     },
     "execution_count": 19,
     "metadata": {},
     "output_type": "execute_result"
    },
    {
     "data": {
      "image/png": "[encoded data removed]",
      "text/plain": [
       "<Figure size 432x288 with 1 Axes>"
      ]
     },
     "metadata": {
      "needs_background": "light"
     },
     "output_type": "display_data"
    }
   ],
   "source": [
    "plt.hist(labels, bins=180)\n",
    "plt.title('Angle distribution')\n",
    "plt.xlabel('Angle')\n",
    "plt.ylabel('count')"
   ]
  },
  {
   "cell_type": "markdown",
   "metadata": {},
   "source": [
    "Most of the data is centered around 75, this is because driving with an angle of 75 is almost driving straight."
   ]
  },
  {
   "cell_type": "markdown",
   "metadata": {},
   "source": [
    "# Preprocessing\n",
    "\n",
    "The data passing trough the CNN must be a numpy array of shape (66, 200, 1)"
   ]
  },
  {
   "cell_type": "code",
   "execution_count": 20,
   "metadata": {},
   "outputs": [
    {
     "data": {
      "text/plain": [
       "(1915,)"
      ]
     },
     "execution_count": 20,
     "metadata": {},
     "output_type": "execute_result"
    }
   ],
   "source": [
    "X_train, X_test, y_train, y_test = train_test_split(images, labels, test_size=0.20, random_state=42)\n",
    "\n",
    "X_train = np.array(X_train).reshape(len(X_train), 1, 66, 200).transpose(0,2,3,1)\n",
    "X_test = np.array(X_test).reshape(len(X_test), 1, 66, 200).transpose(0,2,3,1)\n",
    "y_train = np.array(y_train)\n",
    "y_test = np.array(y_test)\n",
    "\n",
    "\n",
    "y_train.shape"
   ]
  },
  {
   "cell_type": "markdown",
   "metadata": {},
   "source": [
    "## Model"
   ]
  },
  {
   "cell_type": "code",
   "execution_count": 21,
   "metadata": {},
   "outputs": [
    {
     "name": "stdout",
     "output_type": "stream",
     "text": [
      "Model: \"sequential_1\"\n",
      "_________________________________________________________________\n",
      "Layer (type)                 Output Shape              Param #   \n",
      "=================================================================\n",
      "dense_6 (Dense)              (None, 66, 200, 3)        6         \n",
      "_________________________________________________________________\n",
      "batch_normalization_1 (Batch (None, 66, 200, 3)        12        \n",
      "_________________________________________________________________\n",
      "conv2d_5 (Conv2D)            (None, 31, 98, 24)        1824      \n",
      "_________________________________________________________________\n",
      "leaky_re_lu_9 (LeakyReLU)    (None, 31, 98, 24)        0         \n",
      "_________________________________________________________________\n",
      "conv2d_6 (Conv2D)            (None, 14, 47, 36)        21636     \n",
      "_________________________________________________________________\n",
      "leaky_re_lu_10 (LeakyReLU)   (None, 14, 47, 36)        0         \n",
      "_________________________________________________________________\n",
      "conv2d_7 (Conv2D)            (None, 5, 22, 48)         43248     \n",
      "_________________________________________________________________\n",
      "leaky_re_lu_11 (LeakyReLU)   (None, 5, 22, 48)         0         \n",
      "_________________________________________________________________\n",
      "conv2d_8 (Conv2D)            (None, 3, 20, 64)         27712     \n",
      "_________________________________________________________________\n",
      "leaky_re_lu_12 (LeakyReLU)   (None, 3, 20, 64)         0         \n",
      "_________________________________________________________________\n",
      "conv2d_9 (Conv2D)            (None, 1, 18, 64)         36928     \n",
      "_________________________________________________________________\n",
      "leaky_re_lu_13 (LeakyReLU)   (None, 1, 18, 64)         0         \n",
      "_________________________________________________________________\n",
      "flatten_1 (Flatten)          (None, 1152)              0         \n",
      "_________________________________________________________________\n",
      "dense_7 (Dense)              (None, 1164)              1342092   \n",
      "_________________________________________________________________\n",
      "leaky_re_lu_14 (LeakyReLU)   (None, 1164)              0         \n",
      "_________________________________________________________________\n",
      "dense_8 (Dense)              (None, 100)               116500    \n",
      "_________________________________________________________________\n",
      "leaky_re_lu_15 (LeakyReLU)   (None, 100)               0         \n",
      "_________________________________________________________________\n",
      "dropout_1 (Dropout)          (None, 100)               0         \n",
      "_________________________________________________________________\n",
      "dense_9 (Dense)              (None, 50)                5050      \n",
      "_________________________________________________________________\n",
      "leaky_re_lu_16 (LeakyReLU)   (None, 50)                0         \n",
      "_________________________________________________________________\n",
      "dense_10 (Dense)             (None, 10)                510       \n",
      "_________________________________________________________________\n",
      "leaky_re_lu_17 (LeakyReLU)   (None, 10)                0         \n",
      "_________________________________________________________________\n",
      "dense_11 (Dense)             (None, 1)                 11        \n",
      "_________________________________________________________________\n",
      "activation_1 (Activation)    (None, 1)                 0         \n",
      "=================================================================\n",
      "Total params: 1,595,529\n",
      "Trainable params: 1,595,523\n",
      "Non-trainable params: 6\n",
      "_________________________________________________________________\n"
     ]
    }
   ],
   "source": [
    "# Early stopping callback\n",
    "earlystop = EarlyStopping(monitor='val_loss', min_delta=5, patience=30)\n",
    "\n",
    "# Checkpoint callback : If the model improves during an epoch, the model will be saved into a file\n",
    "checkpoint = ModelCheckpoint(\"model/nvidia_model_v7.hdf5\", monitor='val_loss', verbose=1, save_best_only=True, mode='auto')\n",
    "\n",
    "model = Sequential()\n",
    "\n",
    "model.add(Dense(3, input_shape=(66, 200, 1)))\n",
    "\n",
    "model.add(BatchNormalization())\n",
    "\n",
    "# layer 1- Convolution, no of filters- 24, filter size= 5x5, stride= 2x2\n",
    "model.add(Conv2D(filters=24, kernel_size=(5, 5), strides=(2,2), kernel_initializer=('RandomUniform')))\n",
    "model.add(LeakyReLU(alpha=0.2))\n",
    "\n",
    "# layer 2- Convolution, no of filters- 36, filter size= 5x5, stride= 2x2\n",
    "model.add(Conv2D(filters=36, kernel_size=(5, 5), strides=(2,2), kernel_initializer=('RandomUniform')))\n",
    "model.add(LeakyReLU(alpha=0.2))\n",
    "\n",
    "# layer 3- Convolution, no of filters- 48, filter size= 5x5, stride= 2x2\n",
    "model.add(Conv2D(filters=48, kernel_size=(5, 5), strides=(2,2), kernel_initializer=('RandomUniform')))\n",
    "model.add(LeakyReLU(alpha=0.2))\n",
    "\n",
    "# layer 4- Convolution, no of filters- 64, filter size= 3x3, stride= 1x1\n",
    "model.add(Conv2D(filters=64, kernel_size=(3,3), kernel_initializer=('RandomUniform')))\n",
    "model.add(LeakyReLU(alpha=0.2))\n",
    "\n",
    "# layer 5- Convolution, no of filters- 64, filter size= 3x3, stride= 1x1\n",
    "model.add(Conv2D(filters=64, kernel_size=(3,3), kernel_initializer=('RandomUniform')))\n",
    "model.add(LeakyReLU(alpha=0.2))\n",
    "\n",
    "# flatten image from 2D to side by side\n",
    "model.add(Flatten())\n",
    "\n",
    "model.add(Dense(1164, kernel_initializer=('RandomUniform')))\n",
    "model.add(LeakyReLU(alpha=0.3))\n",
    "\n",
    "# layer 6- fully connected layer 1\n",
    "model.add(Dense(100, kernel_initializer=('RandomUniform')))\n",
    "model.add(LeakyReLU(alpha=0.3))\n",
    "\n",
    "# Adding a dropout layer to avoid overfitting. Here we are have given the dropout rate as 25% after first fully connected layer\n",
    "model.add(Dropout(0.25))\n",
    "\n",
    "#layer 7- fully connected layer 1\n",
    "model.add(Dense(50, kernel_initializer=('RandomUniform')))\n",
    "model.add(LeakyReLU(alpha=0.3))\n",
    "\n",
    "#layer 8- fully connected layer 1\n",
    "model.add(Dense(10, kernel_initializer=('RandomUniform')))\n",
    "model.add(LeakyReLU(alpha=0.3))\n",
    "# model.add(Dropout(0.20))\n",
    "\n",
    "\n",
    "#layer 9- fully connected layer 1\n",
    "model.add(Dense(1))#here the final layer will contain one value as this is a regression problem and not classification\n",
    "model.add(Activation('linear'))\n",
    "\n",
    "# the output is the steering angle\n",
    "# using mean squared error loss function is the right choice for this regression problem\n",
    "# adam optimizer is used here\n",
    "model.compile(loss='mse', optimizer='adam')\n",
    "\n",
    "model.summary()"
   ]
  },
  {
   "cell_type": "markdown",
   "metadata": {},
   "source": [
    "## Training the model"
   ]
  },
  {
   "cell_type": "code",
   "execution_count": 22,
   "metadata": {
    "scrolled": true
   },
   "outputs": [
    {
     "name": "stdout",
     "output_type": "stream",
     "text": [
      "Train on 1532 samples, validate on 383 samples\n",
      "Epoch 1/1000\n",
      "1472/1532 [===========================>..] - ETA: 0s - loss: 5384.2746 ETA: 0s - loss: 532\n",
      "Epoch 00001: val_loss improved from inf to 5529.19645, saving model to model/nvidia_model_v7.hdf5\n",
      "1532/1532 [==============================] - 2s 1ms/sample - loss: 5300.6714 - val_loss: 5529.1965\n",
      "Epoch 2/1000\n",
      "1472/1532 [===========================>..] - ETA: 0s - loss: 2150.4175\n",
      "Epoch 00002: val_loss improved from 5529.19645 to 2333.04392, saving model to model/nvidia_model_v7.hdf5\n",
      "1532/1532 [==============================] - 1s 575us/sample - loss: 2124.5505 - val_loss: 2333.0439\n",
      "Epoch 3/1000\n",
      "1472/1532 [===========================>..] - ETA: 0s - loss: 1346.6702\n",
      "Epoch 00003: val_loss improved from 2333.04392 to 1545.11774, saving model to model/nvidia_model_v7.hdf5\n",
      "1532/1532 [==============================] - 1s 574us/sample - loss: 1334.8717 - val_loss: 1545.1177\n",
      "Epoch 4/1000\n",
      "1472/1532 [===========================>..] - ETA: 0s - loss: 952.1124\n",
      "Epoch 00004: val_loss improved from 1545.11774 to 780.53928, saving model to model/nvidia_model_v7.hdf5\n",
      "1532/1532 [==============================] - 1s 568us/sample - loss: 942.9467 - val_loss: 780.5393\n",
      "Epoch 5/1000\n",
      "1472/1532 [===========================>..] - ETA: 0s - loss: 669.0232\n",
      "Epoch 00005: val_loss improved from 780.53928 to 666.64596, saving model to model/nvidia_model_v7.hdf5\n",
      "1532/1532 [==============================] - 1s 568us/sample - loss: 686.3372 - val_loss: 666.6460\n",
      "Epoch 6/1000\n",
      "1472/1532 [===========================>..] - ETA: 0s - loss: 703.6107- ETA: 0s - loss: 750\n",
      "Epoch 00006: val_loss improved from 666.64596 to 641.56695, saving model to model/nvidia_model_v7.hdf5\n",
      "1532/1532 [==============================] - 1s 572us/sample - loss: 689.0888 - val_loss: 641.5669\n",
      "Epoch 7/1000\n",
      "1472/1532 [===========================>..] - ETA: 0s - loss: 582.6705\n",
      "Epoch 00007: val_loss did not improve from 641.56695\n",
      "1532/1532 [==============================] - 1s 517us/sample - loss: 575.3147 - val_loss: 663.5007\n",
      "Epoch 8/1000\n",
      "1472/1532 [===========================>..] - ETA: 0s - loss: 567.4978- ETA: 0s - loss: 575.6\n",
      "Epoch 00008: val_loss did not improve from 641.56695\n",
      "1532/1532 [==============================] - 1s 521us/sample - loss: 569.2733 - val_loss: 651.5798\n",
      "Epoch 9/1000\n",
      "1472/1532 [===========================>..] - ETA: 0s - loss: 600.6668- ETA: 0s - loss: 625.4\n",
      "Epoch 00009: val_loss did not improve from 641.56695\n",
      "1532/1532 [==============================] - 1s 519us/sample - loss: 595.5826 - val_loss: 746.3361\n",
      "Epoch 10/1000\n",
      "1472/1532 [===========================>..] - ETA: 0s - loss: 547.5499- ETA: 0s - loss: 559\n",
      "Epoch 00010: val_loss improved from 641.56695 to 564.52177, saving model to model/nvidia_model_v7.hdf5\n",
      "1532/1532 [==============================] - 1s 567us/sample - loss: 541.4921 - val_loss: 564.5218\n",
      "Epoch 11/1000\n",
      "1472/1532 [===========================>..] - ETA: 0s - loss: 503.7816- ETA: 0s - loss: 54\n",
      "Epoch 00011: val_loss improved from 564.52177 to 528.49433, saving model to model/nvidia_model_v7.hdf5\n",
      "1532/1532 [==============================] - 1s 576us/sample - loss: 511.2568 - val_loss: 528.4943\n",
      "Epoch 12/1000\n",
      "1472/1532 [===========================>..] - ETA: 0s - loss: 498.7541\n",
      "Epoch 00012: val_loss did not improve from 528.49433\n",
      "1532/1532 [==============================] - 1s 519us/sample - loss: 495.6639 - val_loss: 533.7216\n",
      "Epoch 13/1000\n",
      "1472/1532 [===========================>..] - ETA: 0s - loss: 508.8162\n",
      "Epoch 00013: val_loss improved from 528.49433 to 502.06510, saving model to model/nvidia_model_v7.hdf5\n",
      "1532/1532 [==============================] - 1s 568us/sample - loss: 511.2280 - val_loss: 502.0651\n",
      "Epoch 14/1000\n",
      "1472/1532 [===========================>..] - ETA: 0s - loss: 484.2137\n",
      "Epoch 00014: val_loss improved from 502.06510 to 479.82224, saving model to model/nvidia_model_v7.hdf5\n",
      "1532/1532 [==============================] - 1s 567us/sample - loss: 481.7682 - val_loss: 479.8222\n",
      "Epoch 15/1000\n",
      "1472/1532 [===========================>..] - ETA: 0s - loss: 478.9640\n",
      "Epoch 00015: val_loss did not improve from 479.82224\n",
      "1532/1532 [==============================] - 1s 515us/sample - loss: 473.6097 - val_loss: 489.7903\n",
      "Epoch 16/1000\n",
      "1472/1532 [===========================>..] - ETA: 0s - loss: 455.9893\n",
      "Epoch 00016: val_loss did not improve from 479.82224\n",
      "1532/1532 [==============================] - 1s 517us/sample - loss: 457.1381 - val_loss: 491.0914\n",
      "Epoch 17/1000\n",
      "1472/1532 [===========================>..] - ETA: 0s - loss: 461.1437\n",
      "Epoch 00017: val_loss did not improve from 479.82224\n",
      "1532/1532 [==============================] - 1s 516us/sample - loss: 456.8798 - val_loss: 664.5276\n",
      "Epoch 18/1000\n",
      "1472/1532 [===========================>..] - ETA: 0s - loss: 464.1735- ETA: 0s - loss: 51\n",
      "Epoch 00018: val_loss improved from 479.82224 to 455.12091, saving model to model/nvidia_model_v7.hdf5\n",
      "1532/1532 [==============================] - 1s 569us/sample - loss: 459.7916 - val_loss: 455.1209\n",
      "Epoch 19/1000\n",
      "1472/1532 [===========================>..] - ETA: 0s - loss: 437.8740- ETA: 0s - loss: 443.4 - ETA: 0s - loss: 456.\n",
      "Epoch 00019: val_loss did not improve from 455.12091\n",
      "1532/1532 [==============================] - 1s 516us/sample - loss: 432.8428 - val_loss: 530.9387\n",
      "Epoch 20/1000\n",
      "1472/1532 [===========================>..] - ETA: 0s - loss: 438.5150- ETA: 0s - loss: 460\n",
      "Epoch 00020: val_loss did not improve from 455.12091\n",
      "1532/1532 [==============================] - 1s 516us/sample - loss: 437.6310 - val_loss: 577.5167\n",
      "Epoch 21/1000\n",
      "1472/1532 [===========================>..] - ETA: 0s - loss: 441.3072\n",
      "Epoch 00021: val_loss did not improve from 455.12091\n",
      "1532/1532 [==============================] - 1s 523us/sample - loss: 456.8708 - val_loss: 480.1853\n",
      "Epoch 22/1000\n",
      "1472/1532 [===========================>..] - ETA: 0s - loss: 463.3899- ETA: 0s - loss\n",
      "Epoch 00022: val_loss did not improve from 455.12091\n",
      "1532/1532 [==============================] - 1s 519us/sample - loss: 483.4723 - val_loss: 603.8350\n",
      "Epoch 23/1000\n",
      "1472/1532 [===========================>..] - ETA: 0s - loss: 518.1901\n",
      "Epoch 00023: val_loss did not improve from 455.12091\n",
      "1532/1532 [==============================] - 1s 521us/sample - loss: 519.1254 - val_loss: 465.2365\n",
      "Epoch 24/1000\n",
      "1472/1532 [===========================>..] - ETA: 0s - loss: 422.6363\n",
      "Epoch 00024: val_loss did not improve from 455.12091\n",
      "1532/1532 [==============================] - 1s 523us/sample - loss: 431.6942 - val_loss: 588.0230\n",
      "Epoch 25/1000\n",
      "1472/1532 [===========================>..] - ETA: 0s - loss: 442.3316\n",
      "Epoch 00025: val_loss improved from 455.12091 to 447.24959, saving model to model/nvidia_model_v7.hdf5\n",
      "1532/1532 [==============================] - 1s 569us/sample - loss: 445.0192 - val_loss: 447.2496\n",
      "Epoch 26/1000\n",
      "1472/1532 [===========================>..] - ETA: 0s - loss: 413.1077\n",
      "Epoch 00026: val_loss did not improve from 447.24959\n",
      "1532/1532 [==============================] - 1s 518us/sample - loss: 409.8544 - val_loss: 498.7158\n",
      "Epoch 27/1000\n",
      "1472/1532 [===========================>..] - ETA: 0s - loss: 388.8586\n",
      "Epoch 00027: val_loss improved from 447.24959 to 444.64781, saving model to model/nvidia_model_v7.hdf5\n",
      "1532/1532 [==============================] - 1s 568us/sample - loss: 390.4186 - val_loss: 444.6478\n",
      "Epoch 28/1000\n",
      "1472/1532 [===========================>..] - ETA: 0s - loss: 396.9119- ETA: 0s - loss: 412.0\n",
      "Epoch 00028: val_loss improved from 444.64781 to 430.70301, saving model to model/nvidia_model_v7.hdf5\n",
      "1532/1532 [==============================] - 1s 572us/sample - loss: 394.2868 - val_loss: 430.7030\n",
      "Epoch 29/1000\n",
      "1472/1532 [===========================>..] - ETA: 0s - loss: 399.0721\n",
      "Epoch 00029: val_loss improved from 430.70301 to 416.78989, saving model to model/nvidia_model_v7.hdf5\n",
      "1532/1532 [==============================] - 1s 574us/sample - loss: 396.7923 - val_loss: 416.7899\n",
      "Epoch 30/1000\n",
      "1472/1532 [===========================>..] - ETA: 0s - loss: 431.6138\n",
      "Epoch 00030: val_loss did not improve from 416.78989\n",
      "1532/1532 [==============================] - 1s 535us/sample - loss: 425.4272 - val_loss: 519.6000\n",
      "Epoch 31/1000\n",
      "1472/1532 [===========================>..] - ETA: 0s - loss: 390.2719- ETA: 0s - loss: 4\n",
      "Epoch 00031: val_loss did not improve from 416.78989\n",
      "1532/1532 [==============================] - 1s 552us/sample - loss: 392.0723 - val_loss: 437.8826\n",
      "Epoch 32/1000\n",
      "1472/1532 [===========================>..] - ETA: 0s - loss: 450.0577- ETA: 0s - loss: 46 - ETA: 0s - loss: 454.88\n",
      "Epoch 00032: val_loss did not improve from 416.78989\n",
      "1532/1532 [==============================] - 1s 566us/sample - loss: 446.0531 - val_loss: 529.0584\n",
      "Epoch 33/1000\n",
      "1472/1532 [===========================>..] - ETA: 0s - loss: 410.1999\n",
      "Epoch 00033: val_loss did not improve from 416.78989\n",
      "1532/1532 [==============================] - 1s 569us/sample - loss: 413.3243 - val_loss: 427.2228\n",
      "Epoch 34/1000\n",
      "1472/1532 [===========================>..] - ETA: 0s - loss: 366.6540\n",
      "Epoch 00034: val_loss did not improve from 416.78989\n",
      "1532/1532 [==============================] - 1s 595us/sample - loss: 365.9124 - val_loss: 441.9206\n",
      "Epoch 35/1000\n",
      "1472/1532 [===========================>..] - ETA: 0s - loss: 370.9428\n",
      "Epoch 00035: val_loss did not improve from 416.78989\n",
      "1532/1532 [==============================] - 1s 605us/sample - loss: 370.4791 - val_loss: 416.8694\n",
      "Epoch 36/1000\n",
      "1472/1532 [===========================>..] - ETA: 0s - loss: 375.9948\n",
      "Epoch 00036: val_loss did not improve from 416.78989\n",
      "1532/1532 [==============================] - 1s 610us/sample - loss: 368.3288 - val_loss: 432.4498\n",
      "Epoch 37/1000\n",
      "1472/1532 [===========================>..] - ETA: 0s - loss: 374.4685\n",
      "Epoch 00037: val_loss did not improve from 416.78989\n",
      "1532/1532 [==============================] - 1s 607us/sample - loss: 376.0168 - val_loss: 474.6127\n",
      "Epoch 38/1000\n",
      "1472/1532 [===========================>..] - ETA: 0s - loss: 341.8300\n",
      "Epoch 00038: val_loss did not improve from 416.78989\n",
      "1532/1532 [==============================] - 1s 625us/sample - loss: 349.5011 - val_loss: 462.5230\n",
      "Epoch 39/1000\n",
      "1472/1532 [===========================>..] - ETA: 0s - loss: 380.1352- ETA: 0s - loss:\n",
      "Epoch 00039: val_loss improved from 416.78989 to 415.31181, saving model to model/nvidia_model_v7.hdf5\n",
      "1532/1532 [==============================] - 1s 711us/sample - loss: 382.2872 - val_loss: 415.3118\n",
      "Epoch 40/1000\n",
      "1472/1532 [===========================>..] - ETA: 0s - loss: 398.2676\n",
      "Epoch 00040: val_loss did not improve from 415.31181\n",
      "1532/1532 [==============================] - 1s 645us/sample - loss: 393.9668 - val_loss: 486.3823\n",
      "Epoch 41/1000\n",
      "1472/1532 [===========================>..] - ETA: 0s - loss: 381.9466\n",
      "Epoch 00041: val_loss did not improve from 415.31181\n",
      "1532/1532 [==============================] - 1s 672us/sample - loss: 380.0225 - val_loss: 583.4521\n",
      "Epoch 42/1000\n",
      "1472/1532 [===========================>..] - ETA: 0s - loss: 393.1990\n",
      "Epoch 00042: val_loss did not improve from 415.31181\n",
      "1532/1532 [==============================] - 1s 670us/sample - loss: 394.8166 - val_loss: 502.4344\n",
      "Epoch 43/1000\n",
      "1472/1532 [===========================>..] - ETA: 0s - loss: 419.1282\n",
      "Epoch 00043: val_loss did not improve from 415.31181\n",
      "1532/1532 [==============================] - 1s 670us/sample - loss: 426.4385 - val_loss: 534.1245\n",
      "Epoch 44/1000\n",
      "1472/1532 [===========================>..] - ETA: 0s - loss: 424.7909\n",
      "Epoch 00044: val_loss did not improve from 415.31181\n",
      "1532/1532 [==============================] - 1s 674us/sample - loss: 421.9230 - val_loss: 428.3001\n",
      "Epoch 45/1000\n",
      "1408/1532 [==========================>...] - ETA: 0s - loss: 366.5418- ETA: 0s - loss: 349.8\n",
      "Epoch 00045: val_loss did not improve from 415.31181\n",
      "1532/1532 [==============================] - 1s 771us/sample - loss: 367.3453 - val_loss: 516.6363\n",
      "Epoch 46/1000\n",
      "1472/1532 [===========================>..] - ETA: 0s - loss: 384.4329- ETA: 0s - loss: 379. - ETA: 0s - loss: 385.7977\n",
      "Epoch 00046: val_loss did not improve from 415.31181\n",
      "1532/1532 [==============================] - 1s 772us/sample - loss: 391.7576 - val_loss: 590.4689\n",
      "Epoch 47/1000\n",
      "1472/1532 [===========================>..] - ETA: 0s - loss: 358.2449- ETA: 0s - loss: 355 - ETA: 0s - loss: 361.8434\n",
      "Epoch 00047: val_loss did not improve from 415.31181\n",
      "1532/1532 [==============================] - 1s 771us/sample - loss: 362.9424 - val_loss: 452.4696\n",
      "Epoch 48/1000\n",
      "1472/1532 [===========================>..] - ETA: 0s - loss: 323.7116- ETA: 0s - loss: 303.1\n",
      "Epoch 00048: val_loss improved from 415.31181 to 411.40390, saving model to model/nvidia_model_v7.hdf5\n",
      "1532/1532 [==============================] - 1s 832us/sample - loss: 320.2568 - val_loss: 411.4039\n",
      "Epoch 49/1000\n",
      "1472/1532 [===========================>..] - ETA: 0s - loss: 318.9458- ETA: 0s - loss:  - ETA: 0s - loss\n",
      "Epoch 00049: val_loss did not improve from 411.40390\n",
      "1532/1532 [==============================] - 1s 881us/sample - loss: 327.8986 - val_loss: 439.2004\n",
      "Epoch 50/1000\n",
      "1472/1532 [===========================>..] - ETA: 0s - loss: 318.8424- ETA: 1s\n",
      "Epoch 00050: val_loss did not improve from 411.40390\n",
      "1532/1532 [==============================] - 1s 859us/sample - loss: 322.5072 - val_loss: 428.0701\n",
      "Epoch 51/1000\n",
      "1472/1532 [===========================>..] - ETA: 0s - loss: 337.3106\n",
      "Epoch 00051: val_loss improved from 411.40390 to 392.58358, saving model to model/nvidia_model_v7.hdf5\n",
      "1532/1532 [==============================] - 3s 2ms/sample - loss: 345.6548 - val_loss: 392.5836\n",
      "Epoch 52/1000\n",
      "1472/1532 [===========================>..] - ETA: 0s - loss: 348.0872\n",
      "Epoch 00052: val_loss did not improve from 392.58358\n",
      "1532/1532 [==============================] - 1s 888us/sample - loss: 357.8381 - val_loss: 526.0626\n",
      "Epoch 53/1000\n",
      "1472/1532 [===========================>..] - ETA: 0s - loss: 346.8950\n",
      "Epoch 00053: val_loss did not improve from 392.58358\n",
      "1532/1532 [==============================] - 1s 865us/sample - loss: 343.9565 - val_loss: 410.3838\n",
      "Epoch 54/1000\n",
      "1408/1532 [==========================>...] - ETA: 0s - loss: 318.4191\n",
      "Epoch 00054: val_loss did not improve from 392.58358\n",
      "1532/1532 [==============================] - 3s 2ms/sample - loss: 321.3468 - val_loss: 452.1480\n",
      "Epoch 55/1000\n",
      "1472/1532 [===========================>..] - ETA: 0s - loss: 305.3915- ETA: 0s - loss: 270\n",
      "Epoch 00055: val_loss did not improve from 392.58358\n",
      "1532/1532 [==============================] - 1s 831us/sample - loss: 300.5622 - val_loss: 404.2829\n",
      "Epoch 56/1000\n",
      "1472/1532 [===========================>..] - ETA: 0s - loss: 285.9346\n",
      "Epoch 00056: val_loss did not improve from 392.58358\n",
      "1532/1532 [==============================] - 2s 2ms/sample - loss: 286.0039 - val_loss: 440.0825\n",
      "Epoch 57/1000\n",
      "1472/1532 [===========================>..] - ETA: 0s - loss: 297.8284\n",
      "Epoch 00057: val_loss did not improve from 392.58358\n",
      "1532/1532 [==============================] - 2s 2ms/sample - loss: 293.9702 - val_loss: 441.1199\n",
      "Epoch 58/1000\n",
      "1472/1532 [===========================>..] - ETA: 0s - loss: 272.1593\n",
      "Epoch 00058: val_loss did not improve from 392.58358\n",
      "1532/1532 [==============================] - 3s 2ms/sample - loss: 270.1965 - val_loss: 497.8000\n",
      "Epoch 59/1000\n",
      "1472/1532 [===========================>..] - ETA: 0s - loss: 319.8098\n",
      "Epoch 00059: val_loss did not improve from 392.58358\n",
      "1532/1532 [==============================] - 1s 904us/sample - loss: 318.5036 - val_loss: 439.6056\n",
      "Epoch 60/1000\n",
      "1472/1532 [===========================>..] - ETA: 0s - loss: 370.3100\n",
      "Epoch 00060: val_loss did not improve from 392.58358\n",
      "1532/1532 [==============================] - 3s 2ms/sample - loss: 377.2050 - val_loss: 470.5928\n",
      "Epoch 61/1000\n",
      "1472/1532 [===========================>..] - ETA: 0s - loss: 291.0373\n",
      "Epoch 00061: val_loss did not improve from 392.58358\n",
      "1532/1532 [==============================] - 3s 2ms/sample - loss: 298.4393 - val_loss: 460.0692\n",
      "Epoch 62/1000\n",
      "1472/1532 [===========================>..] - ETA: 0s - loss: 300.8582\n",
      "Epoch 00062: val_loss did not improve from 392.58358\n",
      "1532/1532 [==============================] - 3s 2ms/sample - loss: 299.2313 - val_loss: 445.4472\n",
      "Epoch 63/1000\n",
      "1472/1532 [===========================>..] - ETA: 0s - loss: 282.0161\n",
      "Epoch 00063: val_loss did not improve from 392.58358\n",
      "1532/1532 [==============================] - 2s 1ms/sample - loss: 279.3760 - val_loss: 482.2610\n",
      "Epoch 64/1000\n",
      "1472/1532 [===========================>..] - ETA: 0s - loss: 270.1233\n",
      "Epoch 00064: val_loss did not improve from 392.58358\n",
      "1532/1532 [==============================] - 1s 881us/sample - loss: 272.7077 - val_loss: 435.0707\n",
      "Epoch 65/1000\n",
      "1472/1532 [===========================>..] - ETA: 0s - loss: 269.4503\n",
      "Epoch 00065: val_loss did not improve from 392.58358\n",
      "1532/1532 [==============================] - 2s 2ms/sample - loss: 264.6835 - val_loss: 442.4073\n",
      "Epoch 66/1000\n",
      "1472/1532 [===========================>..] - ETA: 0s - loss: 259.9836\n",
      "Epoch 00066: val_loss did not improve from 392.58358\n",
      "1532/1532 [==============================] - 2s 1ms/sample - loss: 260.0827 - val_loss: 471.3299\n",
      "Epoch 67/1000\n",
      "1472/1532 [===========================>..] - ETA: 0s - loss: 248.6746\n",
      "Epoch 00067: val_loss did not improve from 392.58358\n",
      "1532/1532 [==============================] - 2s 1ms/sample - loss: 249.0775 - val_loss: 429.8699\n",
      "Epoch 68/1000\n",
      "1472/1532 [===========================>..] - ETA: 0s - loss: 272.2197\n",
      "Epoch 00068: val_loss did not improve from 392.58358\n",
      "1532/1532 [==============================] - 3s 2ms/sample - loss: 274.1264 - val_loss: 556.4018\n",
      "Epoch 69/1000\n",
      "1472/1532 [===========================>..] - ETA: 0s - loss: 255.2578\n",
      "Epoch 00069: val_loss did not improve from 392.58358\n",
      "1532/1532 [==============================] - 3s 2ms/sample - loss: 254.1019 - val_loss: 444.7174\n",
      "Epoch 70/1000\n",
      "1472/1532 [===========================>..] - ETA: 0s - loss: 265.0264\n",
      "Epoch 00070: val_loss did not improve from 392.58358\n",
      "1532/1532 [==============================] - 1s 894us/sample - loss: 262.7886 - val_loss: 529.5061\n",
      "Epoch 71/1000\n",
      "1472/1532 [===========================>..] - ETA: 0s - loss: 257.9123\n",
      "Epoch 00071: val_loss did not improve from 392.58358\n",
      "1532/1532 [==============================] - 1s 897us/sample - loss: 258.8383 - val_loss: 426.1923\n",
      "Epoch 72/1000\n",
      "1472/1532 [===========================>..] - ETA: 0s - loss: 258.9478\n",
      "Epoch 00072: val_loss did not improve from 392.58358\n",
      "1532/1532 [==============================] - 3s 2ms/sample - loss: 257.3444 - val_loss: 428.2465\n",
      "Epoch 73/1000\n",
      "1472/1532 [===========================>..] - ETA: 0s - loss: 246.9526\n",
      "Epoch 00073: val_loss did not improve from 392.58358\n",
      "1532/1532 [==============================] - 1s 947us/sample - loss: 246.5409 - val_loss: 441.4080\n",
      "Epoch 74/1000\n",
      "1472/1532 [===========================>..] - ETA: 0s - loss: 242.2529\n",
      "Epoch 00074: val_loss did not improve from 392.58358\n",
      "1532/1532 [==============================] - 1s 856us/sample - loss: 246.7195 - val_loss: 476.6510\n",
      "Epoch 75/1000\n",
      "1472/1532 [===========================>..] - ETA: 0s - loss: 270.4432\n",
      "Epoch 00075: val_loss did not improve from 392.58358\n",
      "1532/1532 [==============================] - 2s 1ms/sample - loss: 267.6790 - val_loss: 440.6853\n",
      "Epoch 76/1000\n",
      "1472/1532 [===========================>..] - ETA: 0s - loss: 235.1517\n",
      "Epoch 00076: val_loss did not improve from 392.58358\n",
      "1532/1532 [==============================] - 2s 2ms/sample - loss: 233.1170 - val_loss: 447.3355\n",
      "Epoch 77/1000\n",
      "1472/1532 [===========================>..] - ETA: 0s - loss: 230.4913\n",
      "Epoch 00077: val_loss did not improve from 392.58358\n",
      "1532/1532 [==============================] - 1s 857us/sample - loss: 235.7219 - val_loss: 452.9432\n",
      "Epoch 78/1000\n",
      "1472/1532 [===========================>..] - ETA: 0s - loss: 242.2007\n",
      "Epoch 00078: val_loss did not improve from 392.58358\n",
      "1532/1532 [==============================] - 2s 2ms/sample - loss: 240.0911 - val_loss: 443.4083\n",
      "Epoch 79/1000\n",
      "1472/1532 [===========================>..] - ETA: 0s - loss: 234.1871\n",
      "Epoch 00079: val_loss did not improve from 392.58358\n",
      "1532/1532 [==============================] - 1s 890us/sample - loss: 237.2949 - val_loss: 431.9181\n",
      "Epoch 80/1000\n",
      "1472/1532 [===========================>..] - ETA: 0s - loss: 229.3405\n",
      "Epoch 00080: val_loss did not improve from 392.58358\n",
      "1532/1532 [==============================] - 2s 1ms/sample - loss: 230.5850 - val_loss: 430.9164\n",
      "Epoch 81/1000\n",
      "1472/1532 [===========================>..] - ETA: 0s - loss: 213.0339\n",
      "Epoch 00081: val_loss did not improve from 392.58358\n",
      "1532/1532 [==============================] - 3s 2ms/sample - loss: 211.5431 - val_loss: 447.2374\n"
     ]
    }
   ],
   "source": [
    "batch_size = 64\n",
    "epochs = 1000\n",
    "\n",
    "history = model.fit(X_train, y_train,batch_size=batch_size, epochs=epochs, validation_split=0.2, verbose=1, callbacks=[earlystop, checkpoint])"
   ]
  },
  {
   "cell_type": "markdown",
   "metadata": {},
   "source": [
    "## Load best model"
   ]
  },
  {
   "cell_type": "code",
   "execution_count": null,
   "metadata": {},
   "outputs": [],
   "source": [
    "model = load_model('model/nvidia_model_v7.hdf5')"
   ]
  },
  {
   "cell_type": "markdown",
   "metadata": {},
   "source": [
    "## Test model on one new image"
   ]
  },
  {
   "cell_type": "code",
   "execution_count": 23,
   "metadata": {},
   "outputs": [
    {
     "name": "stdout",
     "output_type": "stream",
     "text": [
      "Predicted angle: 103\n",
      "Actual angle: 97\n"
     ]
    },
    {
     "data": {
      "image/png": "[encoded data removed]",
      "text/plain": [
       "<Figure size 432x288 with 1 Axes>"
      ]
     },
     "metadata": {
      "needs_background": "light"
     },
     "output_type": "display_data"
    }
   ],
   "source": [
    "sample = 30\n",
    "\n",
    "y_pred = model.predict(np.array([X_test[sample]]))\n",
    "plt.imshow(X_test[sample].reshape(66, 200))\n",
    "plt.title('Image')\n",
    "print('Predicted angle: %s' % int(y_pred))\n",
    "print('Actual angle: %s' % y_test[sample])"
   ]
  },
  {
   "cell_type": "markdown",
   "metadata": {},
   "source": [
    "## Evaluate model with MSE, MAE and R2"
   ]
  },
  {
   "cell_type": "code",
   "execution_count": 24,
   "metadata": {},
   "outputs": [
    {
     "name": "stdout",
     "output_type": "stream",
     "text": [
      "MAE =  13.68824220304076\n",
      "MSE =  363.35301669641996\n",
      "r2 score =  0.7154147883063495\n"
     ]
    }
   ],
   "source": [
    "# Evaluatie van het model via de MAE, MSE en de R2-score\n",
    "y_predicted = model.predict(X_test)\n",
    "\n",
    "## Mean Absolute Error\n",
    "from sklearn.metrics import mean_absolute_error\n",
    "\n",
    "MAE = mean_absolute_error(y_test,y_predicted)\n",
    "print('MAE = ', MAE)\n",
    "\n",
    "## Mean Squared Error\n",
    "from sklearn.metrics import mean_squared_error\n",
    "\n",
    "MSE = mean_squared_error(y_test,y_predicted)\n",
    "print('MSE = ', MSE)\n",
    "\n",
    "## coefficient of determination = r2 score\n",
    "from sklearn.metrics import r2_score\n",
    "\n",
    "r2 = r2_score(y_test,y_predicted)\n",
    "\n",
    "print('r2 score = ', r2)\n"
   ]
  },
  {
   "cell_type": "markdown",
   "metadata": {},
   "source": [
    "## Plot the training loss based on MSE "
   ]
  },
  {
   "cell_type": "code",
   "execution_count": 25,
   "metadata": {},
   "outputs": [
    {
     "data": {
      "image/png": "[encoded data removed]",
      "text/plain": [
       "<Figure size 432x288 with 1 Axes>"
      ]
     },
     "metadata": {
      "needs_background": "light"
     },
     "output_type": "display_data"
    }
   ],
   "source": [
    "# MAE \n",
    "plt.plot(history.history['loss'],'r')\n",
    "plt.plot(history.history['val_loss'],'b')\n",
    "plt.title('MSE / EPOCHS')\n",
    "plt.ylabel('MSE')\n",
    "plt.xlabel('EPOCHS')\n",
    "plt.legend(['train', 'test'], loc='upper left')\n",
    "plt.show()"
   ]
  },
  {
   "cell_type": "markdown",
   "metadata": {},
   "source": [
    "## Convert tensorflow to tflite model"
   ]
  },
  {
   "cell_type": "code",
   "execution_count": 26,
   "metadata": {},
   "outputs": [],
   "source": [
    "converter = tf.lite.TFLiteConverter.from_keras_model(model)\n",
    "converter.optimizations = [tf.lite.Optimize.OPTIMIZE_FOR_SIZE]\n",
    "tflite_model = converter.convert()"
   ]
  },
  {
   "cell_type": "code",
   "execution_count": 27,
   "metadata": {},
   "outputs": [
    {
     "data": {
      "text/plain": [
       "1608104"
      ]
     },
     "execution_count": 27,
     "metadata": {},
     "output_type": "execute_result"
    }
   ],
   "source": [
    "open(\"model/nvidia_model_v7.tflite\", \"wb\").write(tflite_model)"
   ]
  }
 ],
 "metadata": {
  "kernelspec": {
   "display_name": "Python 3",
   "language": "python",
   "name": "python3"
  },
  "language_info": {
   "codemirror_mode": {
    "name": "ipython",
    "version": 3
   },
   "file_extension": ".py",
   "mimetype": "text/x-python",
   "name": "python",
   "nbconvert_exporter": "python",
   "pygments_lexer": "ipython3",
   "version": "3.7.6"
  }
 },
 "nbformat": 4,
 "nbformat_minor": 4
}